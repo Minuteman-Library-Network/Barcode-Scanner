{
  "nbformat": 4,
  "nbformat_minor": 0,
  "metadata": {
    "colab": {
      "name": "Barcode Scanner",
      "provenance": [],
      "collapsed_sections": [],
      "authorship_tag": "ABX9TyMyfaath3rfAqN7aSK9+n6s"
    },
    "kernelspec": {
      "name": "python3",
      "display_name": "Python 3"
    },
    "language_info": {
      "name": "python"
    }
  },
  "cells": [
    {
      "cell_type": "markdown",
      "source": [
        "Jeremy Goldstein Minuteman Library Network\n",
        "\n",
        "This Python script will allow you to enter/scan item barcodes to gather a list of bib/item details, via the Sierra APIs, without needing to have Sierra running on your device.  \n",
        "\n",
        "The data includes fields that are helpful for shelf reading, weeding and title curation purposes.  The resulting table can then be exported as an Excel or CSV file.\n",
        "\n",
        "Staff in Minuteman Libraries may [watch a short video demoing this tool](https://drive.google.com/file/d/14FX5BtiHhxWgGBdzUSgYfcHGhftK4_Ws)."
      ],
      "metadata": {
        "id": "bhnBTTfYuLU1"
      }
    },
    {
      "cell_type": "markdown",
      "source": [
        "##Step 1: Initialize the script \n",
        "\n",
        "Click on the play button (that may only appear when you hover over '[ ]') directly below, next to the text 'Show code'."
      ],
      "metadata": {
        "id": "x0Dd0Q4zt6jA"
      }
    },
    {
      "cell_type": "code",
      "execution_count": null,
      "metadata": {
        "id": "U102OUenC0Bb"
      },
      "outputs": [],
      "source": [
        "#@title\n",
        "import requests\n",
        "import json\n",
        "from base64 import b64encode\n",
        "import pandas as pd\n",
        "from datetime import datetime\n",
        "from datetime import timedelta\n",
        "from pandas import json_normalize \n",
        "from google.colab import files\n",
        "from google.colab import data_table\n",
        "data_table.enable_dataframe_formatter()\n",
        "\n",
        "column_names = [\"barcode\",\"callNumber\",\"title\",\"author\",\"publishYear\",\"location.code\",\"location.name\",\"itemType\",\"status.code\",\"status.display\",\"createdDate\",\"updatedDate\",\"lastCheckoutDate\",\"CheckoutTotal\",\"yearToDateCirc\",\"lastYearCirc\",\"id\",\"bibIds\"]\n",
        "df = pd.DataFrame(columns = column_names)\n",
        "temp_column_names = [\"barcode\",\"id\",\"updatedDate\",\"createdDate\",\"bibIds\",\"callNumber\",\"itemType\",\"location.code\",\"location.name\",\"status.code\",\"status.display\",\"yearToDateCirc\",\"CheckoutTotal\",\"lastYearCirc\",\"lastCheckoutDate\"]\n",
        "bib_column_names = [\"id\",\"publishYear\",\"title\",\"author\"]\n",
        "\n",
        "expiration_time = datetime.now() + timedelta(seconds=3600)\n",
        "# config api    \n",
        "\n",
        "#enter API credentials\n",
        "base_url = ''\n",
        "client_key = ''\n",
        "client_secret = ''\n",
        "auth_string = b64encode((client_key + ':' + client_secret).encode('ascii')).decode('utf-8')\n",
        "header = {}\n",
        "header[\"authorization\"] = 'Basic ' + auth_string\n",
        "header[\"Content-Type\"] = 'application/x-www-form-urlencoded'\n",
        "url = base_url + '/token'\n",
        "response = requests.post(url, headers=header)\n",
        "json_response = json.loads(response.text)\n",
        "token = json_response[\"access_token\"]\n",
        "s = requests.Session()"
      ]
    },
    {
      "cell_type": "markdown",
      "source": [
        "##Step 2: Enter barcodes\n",
        "\n",
        "Scan/enter a barcode into the form below.  The script will rerun automatically whenever new information is entered into this field.  When a valid barcode is entered it will be added to the table that displays.  If you enter an invalid number an error will display above the table.\n",
        "\n",
        "NOTE: The field will retain the previously entered barcode so you must overwrite it each time you wish to enter a new number.  The simpliest method for this is to double click on the number so it is highlighted, and then enter the new barcode."
      ],
      "metadata": {
        "id": "2dklOvG2XagA"
      }
    },
    {
      "cell_type": "code",
      "source": [
        "#@title Scan Barcode { run: \"auto\", display-mode: \"form\" }\n",
        "\n",
        "barcode = ''  #@param {type: \"string\"}\n",
        "#@markdown ---\n",
        "\n",
        "barcode = barcode.strip()\n",
        "def get_token():\n",
        "  # config api    \n",
        "  \n",
        "  #enter API credentials\n",
        "  base_url = ''\n",
        "  client_key = ''\n",
        "  client_secret = ''\n",
        "  auth_string = b64encode((client_key + ':' + client_secret).encode('ascii')).decode('utf-8')\n",
        "  header = {}\n",
        "  header[\"authorization\"] = 'Basic ' + auth_string\n",
        "  header[\"Content-Type\"] = 'application/x-www-form-urlencoded'\n",
        "  url = base_url + '/token'\n",
        "  response = s.post(url, headers=header)\n",
        "  json_response = json.loads(response.text)\n",
        "  token = json_response[\"access_token\"]\n",
        "  return token\n",
        "\n",
        "if datetime.now() >= expiration_time:\n",
        "  token = get_token()\n",
        "\n",
        "if len(barcode) == 14 and barcode.isdigit():\n",
        "\n",
        "  url = base_url + '/items/query?offset=0&limit=1'\n",
        "  header = {\"Authorization\": \"Bearer \" + token, \"Content-Type\": \"application/json;charset=UTF-8\"}\n",
        "  query = {\"queries\": [{ \"target\": { \"record\": {\"type\":\"item\"},\"field\": {\"tag\": \"b\"}},\"expr\": {\"op\": \"equals\",\"operands\": [barcode]}}]}\n",
        "  item_request = s.post(url, data=json.dumps(query), headers = header)\n",
        "  item_url = json.loads(item_request.text)\n",
        "\n",
        "  if item_url['entries'] != []:\n",
        "    for entry in item_url['entries']:\n",
        "      temp_df = pd.DataFrame()\n",
        "      bib_df = pd.DataFrame(columns = bib_column_names)\n",
        "      r_entry = s.get(url=entry['link'] + '?fields=id,location,status,barcode,bibIds,barcode,createdDate,updatedDate,callNumber,itemType,fixedFields',headers=header, verify=True)\n",
        "      temp_df = temp_df.append(json_normalize(r_entry.json()))\n",
        "      bibs = json.loads(r_entry.text)\n",
        "    \n",
        "      for entry in bibs['bibIds']:\n",
        "        bib_entry = s.get(url=base_url + '/bibs/' + entry +'?fields=id,title,author,publishYear',headers=header, verify=True)\n",
        "        bib_df = bib_df.append(json_normalize(bib_entry.json()))\n",
        "        #bib_df[\"id\"] = bib_df[\"id\"].astype(str)\n",
        "      temp_df['bibIds'] = [','.join(map(str, l)) for l in temp_df['bibIds']]\n",
        "      temp_df = temp_df.rename(columns={'fixedFields.109.value':'yearToDateCirc','fixedFields.110.value':'lastYearCirc','fixedFields.76.value':'CheckoutTotal','fixedFields.78.value':'lastCheckoutDate'})\n",
        "      temp_df['updatedDate'] = temp_df['updatedDate'].str[:10]\n",
        "      temp_df['createdDate'] = temp_df['createdDate'].str[:10]\n",
        "      temp_df['lastCheckoutDate'] = temp_df['lastCheckoutDate'].str[:10]\n",
        "      #temp_df['status.duedate'] = temp_df['status.duedate'].str[:10]\n",
        "\n",
        "    merge_df = temp_df[temp_column_names].join(bib_df.set_index(['id']), on=['bibIds'], how='left')\n",
        "    merge_df['id'] = 'i' + merge_df['id'].astype(str) + 'a'\n",
        "    merge_df['bibIds'] = 'b' + merge_df['bibIds'].astype(str) + 'a'\n",
        "    merge_df = merge_df.fillna('')\n",
        "    df = df.append(merge_df)\n",
        "  else:\n",
        "    print(\"Invalid barcode entered, try again\")\n",
        "    \n",
        "else:  \n",
        "  print(\"Invalid barcode entered, try again\")\n",
        "\n",
        "df\n"
      ],
      "metadata": {
        "id": "b1ngJpUNfhWv"
      },
      "execution_count": null,
      "outputs": []
    },
    {
      "cell_type": "markdown",
      "source": [
        "##Step 3: Export Table"
      ],
      "metadata": {
        "id": "jZeo4Vxv-R9B"
      }
    },
    {
      "cell_type": "markdown",
      "source": [
        "Run this code block to download a copy of your list to Excel"
      ],
      "metadata": {
        "id": "gwbb0R7CZFmF"
      }
    },
    {
      "cell_type": "code",
      "source": [
        "#@title\n",
        "df.to_excel(\"item_list.xlsx\", encoding = 'utf-8-sig', index=False)\n",
        "files.download('/content/item_list.xlsx')"
      ],
      "metadata": {
        "id": "EWmRDJJVY82h",
        "colab": {
          "base_uri": "https://localhost:8080/",
          "height": 17
        },
        "cellView": "form",
        "outputId": "701e6029-f5bb-459a-9c11-08809ffbc607"
      },
      "execution_count": null,
      "outputs": [
        {
          "output_type": "display_data",
          "data": {
            "text/plain": [
              "<IPython.core.display.Javascript object>"
            ],
            "application/javascript": [
              "\n",
              "    async function download(id, filename, size) {\n",
              "      if (!google.colab.kernel.accessAllowed) {\n",
              "        return;\n",
              "      }\n",
              "      const div = document.createElement('div');\n",
              "      const label = document.createElement('label');\n",
              "      label.textContent = `Downloading \"${filename}\": `;\n",
              "      div.appendChild(label);\n",
              "      const progress = document.createElement('progress');\n",
              "      progress.max = size;\n",
              "      div.appendChild(progress);\n",
              "      document.body.appendChild(div);\n",
              "\n",
              "      const buffers = [];\n",
              "      let downloaded = 0;\n",
              "\n",
              "      const channel = await google.colab.kernel.comms.open(id);\n",
              "      // Send a message to notify the kernel that we're ready.\n",
              "      channel.send({})\n",
              "\n",
              "      for await (const message of channel.messages) {\n",
              "        // Send a message to notify the kernel that we're ready.\n",
              "        channel.send({})\n",
              "        if (message.buffers) {\n",
              "          for (const buffer of message.buffers) {\n",
              "            buffers.push(buffer);\n",
              "            downloaded += buffer.byteLength;\n",
              "            progress.value = downloaded;\n",
              "          }\n",
              "        }\n",
              "      }\n",
              "      const blob = new Blob(buffers, {type: 'application/binary'});\n",
              "      const a = document.createElement('a');\n",
              "      a.href = window.URL.createObjectURL(blob);\n",
              "      a.download = filename;\n",
              "      div.appendChild(a);\n",
              "      a.click();\n",
              "      div.remove();\n",
              "    }\n",
              "  "
            ]
          },
          "metadata": {}
        },
        {
          "output_type": "display_data",
          "data": {
            "text/plain": [
              "<IPython.core.display.Javascript object>"
            ],
            "application/javascript": [
              "download(\"download_a17a25e2-5350-4ef8-a33a-e5338b89ad65\", \"item_list.xlsx\", 5712)"
            ]
          },
          "metadata": {}
        }
      ]
    },
    {
      "cell_type": "markdown",
      "source": [
        "Run this code block to download a copy of your list as a csv"
      ],
      "metadata": {
        "id": "xjdPBjbSa4BH"
      }
    },
    {
      "cell_type": "code",
      "source": [
        "#@title\n",
        "df.to_csv(\"item_list.csv\", encoding = 'utf-8-sig',index=False)\n",
        "files.download('/content/item_list.csv')"
      ],
      "metadata": {
        "id": "WCM_AkNUa8C_",
        "colab": {
          "base_uri": "https://localhost:8080/",
          "height": 17
        },
        "cellView": "form",
        "outputId": "52ecbecd-231a-4bea-9629-516c1f0fb1d2"
      },
      "execution_count": null,
      "outputs": [
        {
          "output_type": "display_data",
          "data": {
            "text/plain": [
              "<IPython.core.display.Javascript object>"
            ],
            "application/javascript": [
              "\n",
              "    async function download(id, filename, size) {\n",
              "      if (!google.colab.kernel.accessAllowed) {\n",
              "        return;\n",
              "      }\n",
              "      const div = document.createElement('div');\n",
              "      const label = document.createElement('label');\n",
              "      label.textContent = `Downloading \"${filename}\": `;\n",
              "      div.appendChild(label);\n",
              "      const progress = document.createElement('progress');\n",
              "      progress.max = size;\n",
              "      div.appendChild(progress);\n",
              "      document.body.appendChild(div);\n",
              "\n",
              "      const buffers = [];\n",
              "      let downloaded = 0;\n",
              "\n",
              "      const channel = await google.colab.kernel.comms.open(id);\n",
              "      // Send a message to notify the kernel that we're ready.\n",
              "      channel.send({})\n",
              "\n",
              "      for await (const message of channel.messages) {\n",
              "        // Send a message to notify the kernel that we're ready.\n",
              "        channel.send({})\n",
              "        if (message.buffers) {\n",
              "          for (const buffer of message.buffers) {\n",
              "            buffers.push(buffer);\n",
              "            downloaded += buffer.byteLength;\n",
              "            progress.value = downloaded;\n",
              "          }\n",
              "        }\n",
              "      }\n",
              "      const blob = new Blob(buffers, {type: 'application/binary'});\n",
              "      const a = document.createElement('a');\n",
              "      a.href = window.URL.createObjectURL(blob);\n",
              "      a.download = filename;\n",
              "      div.appendChild(a);\n",
              "      a.click();\n",
              "      div.remove();\n",
              "    }\n",
              "  "
            ]
          },
          "metadata": {}
        },
        {
          "output_type": "display_data",
          "data": {
            "text/plain": [
              "<IPython.core.display.Javascript object>"
            ],
            "application/javascript": [
              "download(\"download_14453c69-1fec-4f30-957f-2d981a7e6151\", \"item_list.csv\", 1638)"
            ]
          },
          "metadata": {}
        }
      ]
    }
  ]
}